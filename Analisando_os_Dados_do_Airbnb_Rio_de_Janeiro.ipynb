{
  "nbformat": 4,
  "nbformat_minor": 0,
  "metadata": {
    "colab": {
      "name": "Analisando os Dados do Airbnb-Rio de Janeiro.ipynb",
      "provenance": [],
      "collapsed_sections": [],
      "include_colab_link": true
    },
    "kernelspec": {
      "display_name": "Python 3",
      "name": "python3"
    }
  },
  "cells": [
    {
      "cell_type": "markdown",
      "metadata": {
        "id": "view-in-github",
        "colab_type": "text"
      },
      "source": [
        "<a href=\"https://colab.research.google.com/github/AlexPNO/Data_Science/blob/master/Analisando_os_Dados_do_Airbnb_Rio_de_Janeiro.ipynb\" target=\"_parent\"><img src=\"https://colab.research.google.com/assets/colab-badge.svg\" alt=\"Open In Colab\"/></a>"
      ]
    },
    {
      "cell_type": "markdown",
      "metadata": {
        "id": "kLI0gJtzDGuQ"
      },
      "source": [
        "<img alt=\"Colaboratory logo\" width=\"15%\" src=\"https://raw.githubusercontent.com/carlosfab/escola-data-science/master/img/novo_logo_bg_claro.png\">\n",
        "\n",
        "#### **Data Science na Prática 2.0**\n",
        "*by [sigmoidal.ai](https://sigmoidal.ai)*\n",
        "\n",
        "---\n",
        "\n",
        "# Análise dos Dados do Airbnb - *Rio de Janeiro*\n",
        "\n",
        "O [Airbnb](https://www.airbnb.com.br/) já é considerado como sendo a **maior empresa hoteleira da atualidade**. Ah, o detalhe é que ele **não possui nenhum hotel**!\n",
        "\n",
        "Conectando pessoas que querem viajar (e se hospedar) com anfitriões que querem alugar seus imóveis de maneira prática, o Airbnb fornece uma plataforma inovadora para tornar essa hospedagem alternativa.\n",
        "\n",
        "No final de 2018, a Startup fundada 10 anos atrás, já havia **hospedado mais de 300 milhões** de pessoas ao redor de todo o mundo, desafiando as redes hoteleiras tradicionais.\n",
        "\n",
        "Uma das iniciativas do Airbnb é disponibilizar dados do site, para algumas das principais cidades do mundo. Por meio do portal [Inside Airbnb](http://insideairbnb.com/get-the-data.html), é possível baixar uma grande quantidade de dados para desenvolver projetos e soluções de *Data Science*.\n",
        "\n",
        "<center><img alt=\"Analisando Airbnb\" width=\"10%\" src=\"https://www.area360.com.au/wp-content/uploads/2017/09/airbnb-logo.jpg\"></center>\n",
        "\n",
        "**Neste *notebook*, iremos analisar os dados referentes à cidade Rio de Janeiro, e ver quais insights podem ser extraídos a partir de dados brutos.**"
      ]
    },
    {
      "cell_type": "markdown",
      "metadata": {
        "id": "0zxQHhIUDF_2"
      },
      "source": [
        "## Obtenção dos Dados\n",
        "\n",
        "Nessa etapa iremos importar bibliotecas do python que nos permitem trabalhar com\n",
        "o dataset referente a cidade do Rio de Janeiro retirado do portal Inside Airbnb, e em seguida importar o arquivo através da função read_csv e do link para o dataset\n"
      ]
    },
    {
      "cell_type": "code",
      "metadata": {
        "id": "Vhp2wMPgJ6zX"
      },
      "source": [
        "# importar os pacotes necessarios\n",
        "import pandas as pd\n",
        "import matplotlib.pyplot as plt\n",
        "\n",
        "%matplotlib inline"
      ],
      "execution_count": 2,
      "outputs": []
    },
    {
      "cell_type": "code",
      "metadata": {
        "id": "tUmoAT8DLQ5T"
      },
      "source": [
        "# importar o arquivo listings.csv para um DataFrame\n",
        "df = pd.read_csv('http://data.insideairbnb.com/brazil/rj/rio-de-janeiro/2020-05-24/visualisations/listings.csv')\n"
      ],
      "execution_count": 3,
      "outputs": []
    },
    {
      "cell_type": "markdown",
      "metadata": {
        "id": "qb5By2nIMS6m"
      },
      "source": [
        "## Análise dos Dados\n"
      ]
    },
    {
      "cell_type": "markdown",
      "metadata": {
        "id": "RYgvuebKNg8-"
      },
      "source": [
        "**Dicionário das variáveis**\n",
        "\n",
        "* **id** número de identitidade do imóvel no Airbnb.\n",
        "* **name** descrição sucinta do imóvel.\n",
        "* **host_id** número de identidade do locador do imóvel.\n",
        "* **host_name**  nome do locador do imóvel.\n",
        "* **neighbourhood_group**  distrito onde se localiza o bairro\n",
        "* **neighbourhood**\tbairro em que se localiza o imóvel.\n",
        "* **latitude** latitude onde se encontra o imóvel\n",
        "* **longitude** longitude onde se encontra o imóvel\n",
        "* **room_type** Tipo do imóvel: casa, apartamento, quarto privado e etc.\n",
        "* **price** Preço em reais por dia\n",
        "* **minimum_nights** número mínimo de noites para que se alugue o local\n",
        "* **number_of_reviews** número de avaliações do local\n",
        "* **last_review** data da última avaliação\n",
        "* **reviews_per_month** número de avaliações por mês\n",
        "* **calculated_host_listings_count** quantidade de imóveis do mesmo anfitrião\n",
        "* **availability_365** número de dias no ano que o local está disponível para alugar\n",
        "\n",
        "\n",
        "\n",
        "\n",
        "\n",
        "\n",
        "\n",
        "\n",
        "\n",
        "\n",
        "Antes de iniciar qualquer análise, vamos verificar a cara do nosso *dataset*, analisando as 5 primeiras entradas."
      ]
    },
    {
      "cell_type": "code",
      "metadata": {
        "colab": {
          "base_uri": "https://localhost:8080/",
          "height": 496
        },
        "id": "2iS_dae7YQtO",
        "outputId": "231b24a1-8bbb-442e-8ad9-c555cee26fab"
      },
      "source": [
        "# mostrar as 5 primeiras entradas\n",
        "df.head()"
      ],
      "execution_count": 4,
      "outputs": [
        {
          "output_type": "execute_result",
          "data": {
            "text/html": [
              "<div>\n",
              "<style scoped>\n",
              "    .dataframe tbody tr th:only-of-type {\n",
              "        vertical-align: middle;\n",
              "    }\n",
              "\n",
              "    .dataframe tbody tr th {\n",
              "        vertical-align: top;\n",
              "    }\n",
              "\n",
              "    .dataframe thead th {\n",
              "        text-align: right;\n",
              "    }\n",
              "</style>\n",
              "<table border=\"1\" class=\"dataframe\">\n",
              "  <thead>\n",
              "    <tr style=\"text-align: right;\">\n",
              "      <th></th>\n",
              "      <th>id</th>\n",
              "      <th>name</th>\n",
              "      <th>host_id</th>\n",
              "      <th>host_name</th>\n",
              "      <th>neighbourhood_group</th>\n",
              "      <th>neighbourhood</th>\n",
              "      <th>latitude</th>\n",
              "      <th>longitude</th>\n",
              "      <th>room_type</th>\n",
              "      <th>price</th>\n",
              "      <th>minimum_nights</th>\n",
              "      <th>number_of_reviews</th>\n",
              "      <th>last_review</th>\n",
              "      <th>reviews_per_month</th>\n",
              "      <th>calculated_host_listings_count</th>\n",
              "      <th>availability_365</th>\n",
              "    </tr>\n",
              "  </thead>\n",
              "  <tbody>\n",
              "    <tr>\n",
              "      <th>0</th>\n",
              "      <td>17878</td>\n",
              "      <td>Very Nice 2Br in Copacabana w. balcony, fast WiFi</td>\n",
              "      <td>68997</td>\n",
              "      <td>Matthias</td>\n",
              "      <td>NaN</td>\n",
              "      <td>Copacabana</td>\n",
              "      <td>-22.96592</td>\n",
              "      <td>-43.17896</td>\n",
              "      <td>Entire home/apt</td>\n",
              "      <td>188</td>\n",
              "      <td>7</td>\n",
              "      <td>251</td>\n",
              "      <td>2020-04-06</td>\n",
              "      <td>2.09</td>\n",
              "      <td>1</td>\n",
              "      <td>335</td>\n",
              "    </tr>\n",
              "    <tr>\n",
              "      <th>1</th>\n",
              "      <td>21280</td>\n",
              "      <td>Renovated Modern Apt. Near Beach</td>\n",
              "      <td>81163</td>\n",
              "      <td>Jules</td>\n",
              "      <td>NaN</td>\n",
              "      <td>Ipanema</td>\n",
              "      <td>-22.98467</td>\n",
              "      <td>-43.19611</td>\n",
              "      <td>Entire home/apt</td>\n",
              "      <td>442</td>\n",
              "      <td>5</td>\n",
              "      <td>94</td>\n",
              "      <td>2020-03-22</td>\n",
              "      <td>1.23</td>\n",
              "      <td>1</td>\n",
              "      <td>90</td>\n",
              "    </tr>\n",
              "    <tr>\n",
              "      <th>2</th>\n",
              "      <td>25026</td>\n",
              "      <td>Beautiful Modern Decorated Studio in Copa</td>\n",
              "      <td>102840</td>\n",
              "      <td>Viviane</td>\n",
              "      <td>NaN</td>\n",
              "      <td>Copacabana</td>\n",
              "      <td>-22.97712</td>\n",
              "      <td>-43.19045</td>\n",
              "      <td>Entire home/apt</td>\n",
              "      <td>160</td>\n",
              "      <td>7</td>\n",
              "      <td>238</td>\n",
              "      <td>2020-02-15</td>\n",
              "      <td>1.96</td>\n",
              "      <td>3</td>\n",
              "      <td>129</td>\n",
              "    </tr>\n",
              "    <tr>\n",
              "      <th>3</th>\n",
              "      <td>31560</td>\n",
              "      <td>NICE &amp; COZY 1BDR - IPANEMA BEACH</td>\n",
              "      <td>135635</td>\n",
              "      <td>Renata</td>\n",
              "      <td>NaN</td>\n",
              "      <td>Ipanema</td>\n",
              "      <td>-22.98302</td>\n",
              "      <td>-43.21427</td>\n",
              "      <td>Entire home/apt</td>\n",
              "      <td>359</td>\n",
              "      <td>2</td>\n",
              "      <td>282</td>\n",
              "      <td>2020-03-02</td>\n",
              "      <td>2.35</td>\n",
              "      <td>1</td>\n",
              "      <td>0</td>\n",
              "    </tr>\n",
              "    <tr>\n",
              "      <th>4</th>\n",
              "      <td>35636</td>\n",
              "      <td>Cosy flat close to Ipanema beach</td>\n",
              "      <td>153232</td>\n",
              "      <td>Patricia</td>\n",
              "      <td>NaN</td>\n",
              "      <td>Ipanema</td>\n",
              "      <td>-22.98816</td>\n",
              "      <td>-43.19359</td>\n",
              "      <td>Entire home/apt</td>\n",
              "      <td>495</td>\n",
              "      <td>2</td>\n",
              "      <td>181</td>\n",
              "      <td>2020-03-15</td>\n",
              "      <td>2.25</td>\n",
              "      <td>1</td>\n",
              "      <td>357</td>\n",
              "    </tr>\n",
              "  </tbody>\n",
              "</table>\n",
              "</div>"
            ],
            "text/plain": [
              "      id  ... availability_365\n",
              "0  17878  ...              335\n",
              "1  21280  ...               90\n",
              "2  25026  ...              129\n",
              "3  31560  ...                0\n",
              "4  35636  ...              357\n",
              "\n",
              "[5 rows x 16 columns]"
            ]
          },
          "metadata": {
            "tags": []
          },
          "execution_count": 4
        }
      ]
    },
    {
      "cell_type": "markdown",
      "metadata": {
        "id": "6-B_qtEaYEd-"
      },
      "source": [
        "### **Q1. Quantos atributos (variáveis) e quantas entradas o nosso conjunto de dados possui? Quais os tipos das variáveis?**"
      ]
    },
    {
      "cell_type": "code",
      "metadata": {
        "colab": {
          "base_uri": "https://localhost:8080/"
        },
        "id": "TFRK0tniLV-G",
        "outputId": "3e81a641-fd85-4027-afba-dc1ca60ea111"
      },
      "source": [
        "# identificar o volume de dados do DataFrame\n",
        "print(f\"Número de linhas do dataset:{df.shape[0]}\" )\n",
        "print(f'Número de colunas do dataset:{df.shape[1]}' )\n",
        "\n",
        "# verificar as 5 primeiras entradas do dataset\n",
        "df.dtypes"
      ],
      "execution_count": 5,
      "outputs": [
        {
          "output_type": "stream",
          "text": [
            "Número de linhas do dataset:35793\n",
            "Número de colunas do dataset:16\n"
          ],
          "name": "stdout"
        },
        {
          "output_type": "execute_result",
          "data": {
            "text/plain": [
              "id                                  int64\n",
              "name                               object\n",
              "host_id                             int64\n",
              "host_name                          object\n",
              "neighbourhood_group               float64\n",
              "neighbourhood                      object\n",
              "latitude                          float64\n",
              "longitude                         float64\n",
              "room_type                          object\n",
              "price                               int64\n",
              "minimum_nights                      int64\n",
              "number_of_reviews                   int64\n",
              "last_review                        object\n",
              "reviews_per_month                 float64\n",
              "calculated_host_listings_count      int64\n",
              "availability_365                    int64\n",
              "dtype: object"
            ]
          },
          "metadata": {
            "tags": []
          },
          "execution_count": 5
        }
      ]
    },
    {
      "cell_type": "markdown",
      "metadata": {
        "id": "yz1urSUGW9iE"
      },
      "source": [
        "### **Q2. Qual a porcentagem de valores ausentes no *dataset*?**"
      ]
    },
    {
      "cell_type": "code",
      "metadata": {
        "colab": {
          "base_uri": "https://localhost:8080/"
        },
        "id": "plk2FjbCXOqP",
        "outputId": "80f1e6cd-f40a-44de-d774-f79d22917842"
      },
      "source": [
        "# ordenar em ordem decrescente as variáveis por seus valores ausentes\n",
        "df_null = df.isnull().sum().sort_values(ascending = False)\n",
        "print('Porcentagem de valores faltantes em cada coluna:\\n')\n",
        "print(df_null/df.shape[0])"
      ],
      "execution_count": 6,
      "outputs": [
        {
          "output_type": "stream",
          "text": [
            "Porcentagem de valores faltantes em cada coluna:\n",
            "\n",
            "neighbourhood_group               1.00000\n",
            "reviews_per_month                 0.41645\n",
            "last_review                       0.41645\n",
            "name                              0.00162\n",
            "host_name                         0.00014\n",
            "availability_365                  0.00000\n",
            "calculated_host_listings_count    0.00000\n",
            "number_of_reviews                 0.00000\n",
            "minimum_nights                    0.00000\n",
            "price                             0.00000\n",
            "room_type                         0.00000\n",
            "longitude                         0.00000\n",
            "latitude                          0.00000\n",
            "neighbourhood                     0.00000\n",
            "host_id                           0.00000\n",
            "id                                0.00000\n",
            "dtype: float64\n"
          ],
          "name": "stdout"
        }
      ]
    },
    {
      "cell_type": "code",
      "metadata": {
        "id": "Rz-Vrt0EWF2b"
      },
      "source": [
        "#a coluna neighbourhood_group não apresenta valores, postanto será descartada\n",
        "df = df.drop(columns = ['neighbourhood_group'])"
      ],
      "execution_count": 7,
      "outputs": []
    },
    {
      "cell_type": "markdown",
      "metadata": {
        "id": "iHXvvHIxaoNc"
      },
      "source": [
        "### **Q3. Qual o tipo de distribuição das variáveis?** "
      ]
    },
    {
      "cell_type": "code",
      "metadata": {
        "colab": {
          "base_uri": "https://localhost:8080/",
          "height": 879
        },
        "id": "q2wWSfeRbmBo",
        "outputId": "69ccd7df-be3e-441f-eefd-d71b296a1939"
      },
      "source": [
        "# plotar o histograma das variáveis numéricas\n",
        "df.hist(figsize=(15,15),bins = (15));\n"
      ],
      "execution_count": 8,
      "outputs": [
        {
          "output_type": "display_data",
          "data": {
            "image/png": "[encoded data removed]",
            "text/plain": [
              "<Figure size 1080x1080 with 12 Axes>"
            ]
          },
          "metadata": {
            "tags": [],
            "needs_background": "light"
          }
        }
      ]
    },
    {
      "cell_type": "markdown",
      "metadata": {
        "id": "Qav-vhM1u8qd"
      },
      "source": [
        "Pelo histograma é possível perceber que não há muita variação entre os valores de latitude e longitude, por se considerar a análise em apenas uma cidade e as coordenadas geograficas dos imóveis para alugar estarem em determinados bairros, host_id e id são chaves que representam os imóveis e os locadores apresentam uma maior dispersão nos números, mas é será analisado se existe alguma correlação entre eles"
      ]
    },
    {
      "cell_type": "markdown",
      "metadata": {
        "id": "7x4aw1j5wNmn"
      },
      "source": [
        "### **Q4. Qual a média dos preços de aluguel?**"
      ]
    },
    {
      "cell_type": "code",
      "metadata": {
        "colab": {
          "base_uri": "https://localhost:8080/"
        },
        "id": "ff-8gUahLk-C",
        "outputId": "7839a5c8-87a3-4634-f398-646fee015177"
      },
      "source": [
        "# ver a média da coluna `price``\n",
        "print('A média de preço por noite é:',df.price.mean(),'reais')\n"
      ],
      "execution_count": 9,
      "outputs": [
        {
          "output_type": "stream",
          "text": [
            "A média de preço por noite é: 795.6178582404381 reais\n"
          ],
          "name": "stdout"
        }
      ]
    },
    {
      "cell_type": "code",
      "metadata": {
        "colab": {
          "base_uri": "https://localhost:8080/",
          "height": 287
        },
        "id": "rE2J-5csxdQf",
        "outputId": "f8576161-0d85-4cbb-f069-acfe245c2bc6"
      },
      "source": [
        "# A média dos preços dos imóveis é de 795 reais, mas será que existe algum outlier puxando a média pra ciama? vamos veriicar com describe\n",
        "df.describe()"
      ],
      "execution_count": 10,
      "outputs": [
        {
          "output_type": "execute_result",
          "data": {
            "text/html": [
              "<div>\n",
              "<style scoped>\n",
              "    .dataframe tbody tr th:only-of-type {\n",
              "        vertical-align: middle;\n",
              "    }\n",
              "\n",
              "    .dataframe tbody tr th {\n",
              "        vertical-align: top;\n",
              "    }\n",
              "\n",
              "    .dataframe thead th {\n",
              "        text-align: right;\n",
              "    }\n",
              "</style>\n",
              "<table border=\"1\" class=\"dataframe\">\n",
              "  <thead>\n",
              "    <tr style=\"text-align: right;\">\n",
              "      <th></th>\n",
              "      <th>id</th>\n",
              "      <th>host_id</th>\n",
              "      <th>latitude</th>\n",
              "      <th>longitude</th>\n",
              "      <th>price</th>\n",
              "      <th>minimum_nights</th>\n",
              "      <th>number_of_reviews</th>\n",
              "      <th>reviews_per_month</th>\n",
              "      <th>calculated_host_listings_count</th>\n",
              "      <th>availability_365</th>\n",
              "    </tr>\n",
              "  </thead>\n",
              "  <tbody>\n",
              "    <tr>\n",
              "      <th>count</th>\n",
              "      <td>3.579300e+04</td>\n",
              "      <td>3.579300e+04</td>\n",
              "      <td>35793.000000</td>\n",
              "      <td>35793.000000</td>\n",
              "      <td>35793.000000</td>\n",
              "      <td>35793.000000</td>\n",
              "      <td>35793.000000</td>\n",
              "      <td>20887.000000</td>\n",
              "      <td>35793.000000</td>\n",
              "      <td>35793.000000</td>\n",
              "    </tr>\n",
              "    <tr>\n",
              "      <th>mean</th>\n",
              "      <td>2.129684e+07</td>\n",
              "      <td>8.492397e+07</td>\n",
              "      <td>-22.965216</td>\n",
              "      <td>-43.252227</td>\n",
              "      <td>795.617858</td>\n",
              "      <td>4.797586</td>\n",
              "      <td>9.747576</td>\n",
              "      <td>0.581955</td>\n",
              "      <td>8.189059</td>\n",
              "      <td>171.900455</td>\n",
              "    </tr>\n",
              "    <tr>\n",
              "      <th>std</th>\n",
              "      <td>1.368508e+07</td>\n",
              "      <td>8.916201e+07</td>\n",
              "      <td>0.034889</td>\n",
              "      <td>0.096912</td>\n",
              "      <td>2452.937585</td>\n",
              "      <td>21.844137</td>\n",
              "      <td>25.828574</td>\n",
              "      <td>0.763331</td>\n",
              "      <td>34.830690</td>\n",
              "      <td>154.647434</td>\n",
              "    </tr>\n",
              "    <tr>\n",
              "      <th>min</th>\n",
              "      <td>1.787800e+04</td>\n",
              "      <td>1.173900e+04</td>\n",
              "      <td>-23.073400</td>\n",
              "      <td>-43.737090</td>\n",
              "      <td>0.000000</td>\n",
              "      <td>1.000000</td>\n",
              "      <td>0.000000</td>\n",
              "      <td>0.010000</td>\n",
              "      <td>1.000000</td>\n",
              "      <td>0.000000</td>\n",
              "    </tr>\n",
              "    <tr>\n",
              "      <th>25%</th>\n",
              "      <td>1.098687e+07</td>\n",
              "      <td>1.508375e+07</td>\n",
              "      <td>-22.984560</td>\n",
              "      <td>-43.319590</td>\n",
              "      <td>159.000000</td>\n",
              "      <td>1.000000</td>\n",
              "      <td>0.000000</td>\n",
              "      <td>0.120000</td>\n",
              "      <td>1.000000</td>\n",
              "      <td>0.000000</td>\n",
              "    </tr>\n",
              "    <tr>\n",
              "      <th>50%</th>\n",
              "      <td>1.704652e+07</td>\n",
              "      <td>5.640055e+07</td>\n",
              "      <td>-22.970660</td>\n",
              "      <td>-43.198720</td>\n",
              "      <td>299.000000</td>\n",
              "      <td>2.000000</td>\n",
              "      <td>1.000000</td>\n",
              "      <td>0.300000</td>\n",
              "      <td>1.000000</td>\n",
              "      <td>160.000000</td>\n",
              "    </tr>\n",
              "    <tr>\n",
              "      <th>75%</th>\n",
              "      <td>3.428384e+07</td>\n",
              "      <td>1.118898e+08</td>\n",
              "      <td>-22.946930</td>\n",
              "      <td>-43.186480</td>\n",
              "      <td>649.000000</td>\n",
              "      <td>4.000000</td>\n",
              "      <td>6.000000</td>\n",
              "      <td>0.720000</td>\n",
              "      <td>3.000000</td>\n",
              "      <td>362.000000</td>\n",
              "    </tr>\n",
              "    <tr>\n",
              "      <th>max</th>\n",
              "      <td>4.352478e+07</td>\n",
              "      <td>3.468845e+08</td>\n",
              "      <td>-22.750380</td>\n",
              "      <td>-43.104620</td>\n",
              "      <td>138288.000000</td>\n",
              "      <td>1123.000000</td>\n",
              "      <td>401.000000</td>\n",
              "      <td>8.490000</td>\n",
              "      <td>324.000000</td>\n",
              "      <td>365.000000</td>\n",
              "    </tr>\n",
              "  </tbody>\n",
              "</table>\n",
              "</div>"
            ],
            "text/plain": [
              "                 id  ...  availability_365\n",
              "count  3.579300e+04  ...      35793.000000\n",
              "mean   2.129684e+07  ...        171.900455\n",
              "std    1.368508e+07  ...        154.647434\n",
              "min    1.787800e+04  ...          0.000000\n",
              "25%    1.098687e+07  ...          0.000000\n",
              "50%    1.704652e+07  ...        160.000000\n",
              "75%    3.428384e+07  ...        362.000000\n",
              "max    4.352478e+07  ...        365.000000\n",
              "\n",
              "[8 rows x 10 columns]"
            ]
          },
          "metadata": {
            "tags": []
          },
          "execution_count": 10
        }
      ]
    },
    {
      "cell_type": "markdown",
      "metadata": {
        "id": "ny76iKoKxwIf"
      },
      "source": [
        "Ao investigar o preço descobrimos que existe um outlier no valor máximo além de um outlier no valor máximo do mínimo de noites, os dois poderiam ser retirados do dataset para obter números mais confiáveis na análise "
      ]
    },
    {
      "cell_type": "markdown",
      "metadata": {
        "id": "yqjoq77UjMiC"
      },
      "source": [
        "### **Q4. Investigando outliers**"
      ]
    },
    {
      "cell_type": "code",
      "metadata": {
        "colab": {
          "base_uri": "https://localhost:8080/",
          "height": 264
        },
        "id": "O83St0YnjZrc",
        "outputId": "63be8532-dafd-437b-ddfa-a885f1764dc7"
      },
      "source": [
        "#Usando boxplots investigaremos mais a fundo os ouliers e veremos o numero de entradas acima de 30 dias, para ver sua representatividade nos dados\n",
        "df.minimum_nights.plot(kind='box', vert=False, figsize=(15,3))\n",
        "plt.show()\n",
        "print(\"Valor de entradas maiores do que 30:\")\n",
        "print(\"{} entradas\".format(len(df[df.minimum_nights>30])))\n",
        "print(\"{:.4f}%\".format((len(df[df.minimum_nights > 30]) / df.shape[0])*100))\n",
        "\n",
        "\n"
      ],
      "execution_count": 11,
      "outputs": [
        {
          "output_type": "display_data",
          "data": {
            "image/png": "[encoded data removed]",
            "text/plain": [
              "<Figure size 1080x216 with 1 Axes>"
            ]
          },
          "metadata": {
            "tags": [],
            "needs_background": "light"
          }
        },
        {
          "output_type": "stream",
          "text": [
            "Valor de entradas maiores do que 30:\n",
            "229 entradas\n",
            "0.6398%\n"
          ],
          "name": "stdout"
        }
      ]
    },
    {
      "cell_type": "code",
      "metadata": {
        "colab": {
          "base_uri": "https://localhost:8080/",
          "height": 264
        },
        "id": "bOyw7GVG033s",
        "outputId": "37fd4916-b189-48de-eeca-897e634e37ee"
      },
      "source": [
        "# veremos a quantidado de dados existentes para o numero de preço estipulado 3000 a fim de retirarmos os outliers do dataset\n",
        "df.price.plot(kind='box', vert=False, figsize=(15,3))\n",
        "plt.show()\n",
        "print(\"Valor de entradas maiores do que 3000:\")\n",
        "print(\"{} entradas\".format(len(df[df.price>3000])))\n",
        "print(\"{:.4f}%\".format((len(df[df.price > 3000]) / df.shape[0])*100))"
      ],
      "execution_count": 12,
      "outputs": [
        {
          "output_type": "display_data",
          "data": {
            "image/png": "[encoded data removed]",
            "text/plain": [
              "<Figure size 1080x216 with 1 Axes>"
            ]
          },
          "metadata": {
            "tags": [],
            "needs_background": "light"
          }
        },
        {
          "output_type": "stream",
          "text": [
            "Valor de entradas maiores do que 3000:\n",
            "1422 entradas\n",
            "3.9728%\n"
          ],
          "name": "stdout"
        }
      ]
    },
    {
      "cell_type": "code",
      "metadata": {
        "id": "0jL0WWXy9Kiz"
      },
      "source": [
        "df_clean=df.copy()\n",
        "df_clean.drop(df_clean[df_clean.price > 3000].index, axis=0, inplace=True)\n",
        "df_clean.drop(df_clean[df_clean.minimum_nights>30].index, axis=0, inplace=True)"
      ],
      "execution_count": 13,
      "outputs": []
    },
    {
      "cell_type": "markdown",
      "metadata": {
        "id": "IXn2oIo5qx-w"
      },
      "source": [
        "### **Q4. Qual a correlação existente entre as variáveis**"
      ]
    },
    {
      "cell_type": "code",
      "metadata": {
        "colab": {
          "base_uri": "https://localhost:8080/",
          "height": 367
        },
        "id": "x2ayzBajqxyd",
        "outputId": "febb451d-b87b-473d-900f-be6eb482c692"
      },
      "source": [
        "# criar uma matriz de correlação para ver se existe alguma relação forte entre as variáveis\n",
        "corr = df_clean.corr()\n",
        "\n",
        "# mostrar a matriz de correlação\n",
        "corr"
      ],
      "execution_count": 14,
      "outputs": [
        {
          "output_type": "execute_result",
          "data": {
            "text/html": [
              "<div>\n",
              "<style scoped>\n",
              "    .dataframe tbody tr th:only-of-type {\n",
              "        vertical-align: middle;\n",
              "    }\n",
              "\n",
              "    .dataframe tbody tr th {\n",
              "        vertical-align: top;\n",
              "    }\n",
              "\n",
              "    .dataframe thead th {\n",
              "        text-align: right;\n",
              "    }\n",
              "</style>\n",
              "<table border=\"1\" class=\"dataframe\">\n",
              "  <thead>\n",
              "    <tr style=\"text-align: right;\">\n",
              "      <th></th>\n",
              "      <th>id</th>\n",
              "      <th>host_id</th>\n",
              "      <th>latitude</th>\n",
              "      <th>longitude</th>\n",
              "      <th>price</th>\n",
              "      <th>minimum_nights</th>\n",
              "      <th>number_of_reviews</th>\n",
              "      <th>reviews_per_month</th>\n",
              "      <th>calculated_host_listings_count</th>\n",
              "      <th>availability_365</th>\n",
              "    </tr>\n",
              "  </thead>\n",
              "  <tbody>\n",
              "    <tr>\n",
              "      <th>id</th>\n",
              "      <td>1.000000</td>\n",
              "      <td>0.588408</td>\n",
              "      <td>-0.019230</td>\n",
              "      <td>0.011176</td>\n",
              "      <td>-0.188245</td>\n",
              "      <td>-0.107846</td>\n",
              "      <td>-0.224269</td>\n",
              "      <td>0.135171</td>\n",
              "      <td>0.074351</td>\n",
              "      <td>-0.014304</td>\n",
              "    </tr>\n",
              "    <tr>\n",
              "      <th>host_id</th>\n",
              "      <td>0.588408</td>\n",
              "      <td>1.000000</td>\n",
              "      <td>0.022869</td>\n",
              "      <td>-0.088198</td>\n",
              "      <td>-0.128390</td>\n",
              "      <td>-0.069400</td>\n",
              "      <td>-0.142799</td>\n",
              "      <td>0.080695</td>\n",
              "      <td>-0.058623</td>\n",
              "      <td>-0.011121</td>\n",
              "    </tr>\n",
              "    <tr>\n",
              "      <th>latitude</th>\n",
              "      <td>-0.019230</td>\n",
              "      <td>0.022869</td>\n",
              "      <td>1.000000</td>\n",
              "      <td>0.353041</td>\n",
              "      <td>-0.169860</td>\n",
              "      <td>-0.059259</td>\n",
              "      <td>-0.056605</td>\n",
              "      <td>-0.039306</td>\n",
              "      <td>-0.069113</td>\n",
              "      <td>0.000124</td>\n",
              "    </tr>\n",
              "    <tr>\n",
              "      <th>longitude</th>\n",
              "      <td>0.011176</td>\n",
              "      <td>-0.088198</td>\n",
              "      <td>0.353041</td>\n",
              "      <td>1.000000</td>\n",
              "      <td>-0.139311</td>\n",
              "      <td>-0.068870</td>\n",
              "      <td>0.128151</td>\n",
              "      <td>0.083866</td>\n",
              "      <td>0.086791</td>\n",
              "      <td>-0.027360</td>\n",
              "    </tr>\n",
              "    <tr>\n",
              "      <th>price</th>\n",
              "      <td>-0.188245</td>\n",
              "      <td>-0.128390</td>\n",
              "      <td>-0.169860</td>\n",
              "      <td>-0.139311</td>\n",
              "      <td>1.000000</td>\n",
              "      <td>0.178383</td>\n",
              "      <td>-0.160525</td>\n",
              "      <td>-0.160703</td>\n",
              "      <td>0.024827</td>\n",
              "      <td>-0.031440</td>\n",
              "    </tr>\n",
              "    <tr>\n",
              "      <th>minimum_nights</th>\n",
              "      <td>-0.107846</td>\n",
              "      <td>-0.069400</td>\n",
              "      <td>-0.059259</td>\n",
              "      <td>-0.068870</td>\n",
              "      <td>0.178383</td>\n",
              "      <td>1.000000</td>\n",
              "      <td>-0.058371</td>\n",
              "      <td>-0.059751</td>\n",
              "      <td>-0.033931</td>\n",
              "      <td>-0.027525</td>\n",
              "    </tr>\n",
              "    <tr>\n",
              "      <th>number_of_reviews</th>\n",
              "      <td>-0.224269</td>\n",
              "      <td>-0.142799</td>\n",
              "      <td>-0.056605</td>\n",
              "      <td>0.128151</td>\n",
              "      <td>-0.160525</td>\n",
              "      <td>-0.058371</td>\n",
              "      <td>1.000000</td>\n",
              "      <td>0.705183</td>\n",
              "      <td>-0.022870</td>\n",
              "      <td>0.049898</td>\n",
              "    </tr>\n",
              "    <tr>\n",
              "      <th>reviews_per_month</th>\n",
              "      <td>0.135171</td>\n",
              "      <td>0.080695</td>\n",
              "      <td>-0.039306</td>\n",
              "      <td>0.083866</td>\n",
              "      <td>-0.160703</td>\n",
              "      <td>-0.059751</td>\n",
              "      <td>0.705183</td>\n",
              "      <td>1.000000</td>\n",
              "      <td>-0.017978</td>\n",
              "      <td>-0.022216</td>\n",
              "    </tr>\n",
              "    <tr>\n",
              "      <th>calculated_host_listings_count</th>\n",
              "      <td>0.074351</td>\n",
              "      <td>-0.058623</td>\n",
              "      <td>-0.069113</td>\n",
              "      <td>0.086791</td>\n",
              "      <td>0.024827</td>\n",
              "      <td>-0.033931</td>\n",
              "      <td>-0.022870</td>\n",
              "      <td>-0.017978</td>\n",
              "      <td>1.000000</td>\n",
              "      <td>0.076126</td>\n",
              "    </tr>\n",
              "    <tr>\n",
              "      <th>availability_365</th>\n",
              "      <td>-0.014304</td>\n",
              "      <td>-0.011121</td>\n",
              "      <td>0.000124</td>\n",
              "      <td>-0.027360</td>\n",
              "      <td>-0.031440</td>\n",
              "      <td>-0.027525</td>\n",
              "      <td>0.049898</td>\n",
              "      <td>-0.022216</td>\n",
              "      <td>0.076126</td>\n",
              "      <td>1.000000</td>\n",
              "    </tr>\n",
              "  </tbody>\n",
              "</table>\n",
              "</div>"
            ],
            "text/plain": [
              "                                      id  ...  availability_365\n",
              "id                              1.000000  ...         -0.014304\n",
              "host_id                         0.588408  ...         -0.011121\n",
              "latitude                       -0.019230  ...          0.000124\n",
              "longitude                       0.011176  ...         -0.027360\n",
              "price                          -0.188245  ...         -0.031440\n",
              "minimum_nights                 -0.107846  ...         -0.027525\n",
              "number_of_reviews              -0.224269  ...          0.049898\n",
              "reviews_per_month               0.135171  ...         -0.022216\n",
              "calculated_host_listings_count  0.074351  ...          0.076126\n",
              "availability_365               -0.014304  ...          1.000000\n",
              "\n",
              "[10 rows x 10 columns]"
            ]
          },
          "metadata": {
            "tags": []
          },
          "execution_count": 14
        }
      ]
    },
    {
      "cell_type": "code",
      "metadata": {
        "colab": {
          "base_uri": "https://localhost:8080/",
          "height": 213
        },
        "id": "91UujDr6ueqE",
        "outputId": "060044fe-f916-4795-8e52-155089e2ae2c"
      },
      "source": [
        "# plotar um heatmap a partir das correlações\n",
        "corr.style.background_gradient(cmap = 'coolwarm')"
      ],
      "execution_count": 15,
      "outputs": [
        {
          "output_type": "execute_result",
          "data": {
            "text/html": [
              "<style  type=\"text/css\" >\n",
              "#T_0d6f0846_9521_11eb_b771_0242ac1c0002row0_col0,#T_0d6f0846_9521_11eb_b771_0242ac1c0002row1_col1,#T_0d6f0846_9521_11eb_b771_0242ac1c0002row2_col2,#T_0d6f0846_9521_11eb_b771_0242ac1c0002row3_col3,#T_0d6f0846_9521_11eb_b771_0242ac1c0002row4_col4,#T_0d6f0846_9521_11eb_b771_0242ac1c0002row5_col5,#T_0d6f0846_9521_11eb_b771_0242ac1c0002row6_col6,#T_0d6f0846_9521_11eb_b771_0242ac1c0002row7_col7,#T_0d6f0846_9521_11eb_b771_0242ac1c0002row8_col8,#T_0d6f0846_9521_11eb_b771_0242ac1c0002row9_col9{\n",
              "            background-color:  #b40426;\n",
              "            color:  #f1f1f1;\n",
              "        }#T_0d6f0846_9521_11eb_b771_0242ac1c0002row0_col1{\n",
              "            background-color:  #f5c0a7;\n",
              "            color:  #000000;\n",
              "        }#T_0d6f0846_9521_11eb_b771_0242ac1c0002row0_col2{\n",
              "            background-color:  #6282ea;\n",
              "            color:  #000000;\n",
              "        }#T_0d6f0846_9521_11eb_b771_0242ac1c0002row0_col3,#T_0d6f0846_9521_11eb_b771_0242ac1c0002row9_col4{\n",
              "            background-color:  #6384eb;\n",
              "            color:  #000000;\n",
              "        }#T_0d6f0846_9521_11eb_b771_0242ac1c0002row0_col4,#T_0d6f0846_9521_11eb_b771_0242ac1c0002row0_col5,#T_0d6f0846_9521_11eb_b771_0242ac1c0002row0_col6,#T_0d6f0846_9521_11eb_b771_0242ac1c0002row2_col8,#T_0d6f0846_9521_11eb_b771_0242ac1c0002row4_col2,#T_0d6f0846_9521_11eb_b771_0242ac1c0002row4_col3,#T_0d6f0846_9521_11eb_b771_0242ac1c0002row4_col7,#T_0d6f0846_9521_11eb_b771_0242ac1c0002row4_col9,#T_0d6f0846_9521_11eb_b771_0242ac1c0002row5_col9,#T_0d6f0846_9521_11eb_b771_0242ac1c0002row6_col0,#T_0d6f0846_9521_11eb_b771_0242ac1c0002row6_col1{\n",
              "            background-color:  #3b4cc0;\n",
              "            color:  #f1f1f1;\n",
              "        }#T_0d6f0846_9521_11eb_b771_0242ac1c0002row0_col7{\n",
              "            background-color:  #8fb1fe;\n",
              "            color:  #000000;\n",
              "        }#T_0d6f0846_9521_11eb_b771_0242ac1c0002row0_col8,#T_0d6f0846_9521_11eb_b771_0242ac1c0002row5_col6,#T_0d6f0846_9521_11eb_b771_0242ac1c0002row9_col8{\n",
              "            background-color:  #6485ec;\n",
              "            color:  #000000;\n",
              "        }#T_0d6f0846_9521_11eb_b771_0242ac1c0002row0_col9{\n",
              "            background-color:  #3f53c6;\n",
              "            color:  #f1f1f1;\n",
              "        }#T_0d6f0846_9521_11eb_b771_0242ac1c0002row1_col0{\n",
              "            background-color:  #f7b99e;\n",
              "            color:  #000000;\n",
              "        }#T_0d6f0846_9521_11eb_b771_0242ac1c0002row1_col2,#T_0d6f0846_9521_11eb_b771_0242ac1c0002row2_col0,#T_0d6f0846_9521_11eb_b771_0242ac1c0002row8_col6{\n",
              "            background-color:  #6f92f3;\n",
              "            color:  #000000;\n",
              "        }#T_0d6f0846_9521_11eb_b771_0242ac1c0002row1_col3,#T_0d6f0846_9521_11eb_b771_0242ac1c0002row2_col5,#T_0d6f0846_9521_11eb_b771_0242ac1c0002row6_col5,#T_0d6f0846_9521_11eb_b771_0242ac1c0002row6_col8,#T_0d6f0846_9521_11eb_b771_0242ac1c0002row7_col5{\n",
              "            background-color:  #485fd1;\n",
              "            color:  #f1f1f1;\n",
              "        }#T_0d6f0846_9521_11eb_b771_0242ac1c0002row1_col4,#T_0d6f0846_9521_11eb_b771_0242ac1c0002row3_col1,#T_0d6f0846_9521_11eb_b771_0242ac1c0002row7_col8{\n",
              "            background-color:  #4961d2;\n",
              "            color:  #f1f1f1;\n",
              "        }#T_0d6f0846_9521_11eb_b771_0242ac1c0002row1_col5,#T_0d6f0846_9521_11eb_b771_0242ac1c0002row5_col8{\n",
              "            background-color:  #445acc;\n",
              "            color:  #f1f1f1;\n",
              "        }#T_0d6f0846_9521_11eb_b771_0242ac1c0002row1_col6,#T_0d6f0846_9521_11eb_b771_0242ac1c0002row8_col5{\n",
              "            background-color:  #4f69d9;\n",
              "            color:  #000000;\n",
              "        }#T_0d6f0846_9521_11eb_b771_0242ac1c0002row1_col7,#T_0d6f0846_9521_11eb_b771_0242ac1c0002row3_col7{\n",
              "            background-color:  #7ea1fa;\n",
              "            color:  #000000;\n",
              "        }#T_0d6f0846_9521_11eb_b771_0242ac1c0002row1_col8,#T_0d6f0846_9521_11eb_b771_0242ac1c0002row7_col9{\n",
              "            background-color:  #3d50c3;\n",
              "            color:  #f1f1f1;\n",
              "        }#T_0d6f0846_9521_11eb_b771_0242ac1c0002row1_col9,#T_0d6f0846_9521_11eb_b771_0242ac1c0002row6_col4,#T_0d6f0846_9521_11eb_b771_0242ac1c0002row7_col4{\n",
              "            background-color:  #4055c8;\n",
              "            color:  #f1f1f1;\n",
              "        }#T_0d6f0846_9521_11eb_b771_0242ac1c0002row2_col1,#T_0d6f0846_9521_11eb_b771_0242ac1c0002row3_col8,#T_0d6f0846_9521_11eb_b771_0242ac1c0002row9_col2{\n",
              "            background-color:  #688aef;\n",
              "            color:  #000000;\n",
              "        }#T_0d6f0846_9521_11eb_b771_0242ac1c0002row2_col3{\n",
              "            background-color:  #cad8ef;\n",
              "            color:  #000000;\n",
              "        }#T_0d6f0846_9521_11eb_b771_0242ac1c0002row2_col4,#T_0d6f0846_9521_11eb_b771_0242ac1c0002row4_col1{\n",
              "            background-color:  #3e51c5;\n",
              "            color:  #f1f1f1;\n",
              "        }#T_0d6f0846_9521_11eb_b771_0242ac1c0002row2_col6{\n",
              "            background-color:  #6687ed;\n",
              "            color:  #000000;\n",
              "        }#T_0d6f0846_9521_11eb_b771_0242ac1c0002row2_col7,#T_0d6f0846_9521_11eb_b771_0242ac1c0002row8_col9{\n",
              "            background-color:  #5a78e4;\n",
              "            color:  #000000;\n",
              "        }#T_0d6f0846_9521_11eb_b771_0242ac1c0002row2_col9,#T_0d6f0846_9521_11eb_b771_0242ac1c0002row4_col0{\n",
              "            background-color:  #4358cb;\n",
              "            color:  #f1f1f1;\n",
              "        }#T_0d6f0846_9521_11eb_b771_0242ac1c0002row3_col0{\n",
              "            background-color:  #799cf8;\n",
              "            color:  #000000;\n",
              "        }#T_0d6f0846_9521_11eb_b771_0242ac1c0002row3_col2{\n",
              "            background-color:  #cedaeb;\n",
              "            color:  #000000;\n",
              "        }#T_0d6f0846_9521_11eb_b771_0242ac1c0002row3_col4{\n",
              "            background-color:  #465ecf;\n",
              "            color:  #f1f1f1;\n",
              "        }#T_0d6f0846_9521_11eb_b771_0242ac1c0002row3_col5{\n",
              "            background-color:  #455cce;\n",
              "            color:  #f1f1f1;\n",
              "        }#T_0d6f0846_9521_11eb_b771_0242ac1c0002row3_col6{\n",
              "            background-color:  #9abbff;\n",
              "            color:  #000000;\n",
              "        }#T_0d6f0846_9521_11eb_b771_0242ac1c0002row3_col9{\n",
              "            background-color:  #3c4ec2;\n",
              "            color:  #f1f1f1;\n",
              "        }#T_0d6f0846_9521_11eb_b771_0242ac1c0002row4_col5{\n",
              "            background-color:  #90b2fe;\n",
              "            color:  #000000;\n",
              "        }#T_0d6f0846_9521_11eb_b771_0242ac1c0002row4_col6{\n",
              "            background-color:  #4a63d3;\n",
              "            color:  #f1f1f1;\n",
              "        }#T_0d6f0846_9521_11eb_b771_0242ac1c0002row4_col8,#T_0d6f0846_9521_11eb_b771_0242ac1c0002row5_col7,#T_0d6f0846_9521_11eb_b771_0242ac1c0002row8_col2{\n",
              "            background-color:  #5572df;\n",
              "            color:  #000000;\n",
              "        }#T_0d6f0846_9521_11eb_b771_0242ac1c0002row5_col0,#T_0d6f0846_9521_11eb_b771_0242ac1c0002row5_col2,#T_0d6f0846_9521_11eb_b771_0242ac1c0002row6_col2{\n",
              "            background-color:  #5875e1;\n",
              "            color:  #000000;\n",
              "        }#T_0d6f0846_9521_11eb_b771_0242ac1c0002row5_col1{\n",
              "            background-color:  #4e68d8;\n",
              "            color:  #000000;\n",
              "        }#T_0d6f0846_9521_11eb_b771_0242ac1c0002row5_col3{\n",
              "            background-color:  #4c66d6;\n",
              "            color:  #000000;\n",
              "        }#T_0d6f0846_9521_11eb_b771_0242ac1c0002row5_col4{\n",
              "            background-color:  #a1c0ff;\n",
              "            color:  #000000;\n",
              "        }#T_0d6f0846_9521_11eb_b771_0242ac1c0002row6_col3{\n",
              "            background-color:  #88abfd;\n",
              "            color:  #000000;\n",
              "        }#T_0d6f0846_9521_11eb_b771_0242ac1c0002row6_col7{\n",
              "            background-color:  #f59c7d;\n",
              "            color:  #000000;\n",
              "        }#T_0d6f0846_9521_11eb_b771_0242ac1c0002row6_col9{\n",
              "            background-color:  #536edd;\n",
              "            color:  #000000;\n",
              "        }#T_0d6f0846_9521_11eb_b771_0242ac1c0002row7_col0{\n",
              "            background-color:  #9dbdff;\n",
              "            color:  #000000;\n",
              "        }#T_0d6f0846_9521_11eb_b771_0242ac1c0002row7_col1,#T_0d6f0846_9521_11eb_b771_0242ac1c0002row7_col3,#T_0d6f0846_9521_11eb_b771_0242ac1c0002row8_col3{\n",
              "            background-color:  #7a9df8;\n",
              "            color:  #000000;\n",
              "        }#T_0d6f0846_9521_11eb_b771_0242ac1c0002row7_col2{\n",
              "            background-color:  #5d7ce6;\n",
              "            color:  #000000;\n",
              "        }#T_0d6f0846_9521_11eb_b771_0242ac1c0002row7_col6{\n",
              "            background-color:  #f39577;\n",
              "            color:  #000000;\n",
              "        }#T_0d6f0846_9521_11eb_b771_0242ac1c0002row8_col0{\n",
              "            background-color:  #8badfd;\n",
              "            color:  #000000;\n",
              "        }#T_0d6f0846_9521_11eb_b771_0242ac1c0002row8_col1,#T_0d6f0846_9521_11eb_b771_0242ac1c0002row9_col5{\n",
              "            background-color:  #506bda;\n",
              "            color:  #000000;\n",
              "        }#T_0d6f0846_9521_11eb_b771_0242ac1c0002row8_col4{\n",
              "            background-color:  #7396f5;\n",
              "            color:  #000000;\n",
              "        }#T_0d6f0846_9521_11eb_b771_0242ac1c0002row8_col7{\n",
              "            background-color:  #6180e9;\n",
              "            color:  #000000;\n",
              "        }#T_0d6f0846_9521_11eb_b771_0242ac1c0002row9_col0{\n",
              "            background-color:  #7093f3;\n",
              "            color:  #000000;\n",
              "        }#T_0d6f0846_9521_11eb_b771_0242ac1c0002row9_col1{\n",
              "            background-color:  #5e7de7;\n",
              "            color:  #000000;\n",
              "        }#T_0d6f0846_9521_11eb_b771_0242ac1c0002row9_col3{\n",
              "            background-color:  #5977e3;\n",
              "            color:  #000000;\n",
              "        }#T_0d6f0846_9521_11eb_b771_0242ac1c0002row9_col6{\n",
              "            background-color:  #84a7fc;\n",
              "            color:  #000000;\n",
              "        }#T_0d6f0846_9521_11eb_b771_0242ac1c0002row9_col7{\n",
              "            background-color:  #5f7fe8;\n",
              "            color:  #000000;\n",
              "        }</style><table id=\"T_0d6f0846_9521_11eb_b771_0242ac1c0002\" ><thead>    <tr>        <th class=\"blank level0\" ></th>        <th class=\"col_heading level0 col0\" >id</th>        <th class=\"col_heading level0 col1\" >host_id</th>        <th class=\"col_heading level0 col2\" >latitude</th>        <th class=\"col_heading level0 col3\" >longitude</th>        <th class=\"col_heading level0 col4\" >price</th>        <th class=\"col_heading level0 col5\" >minimum_nights</th>        <th class=\"col_heading level0 col6\" >number_of_reviews</th>        <th class=\"col_heading level0 col7\" >reviews_per_month</th>        <th class=\"col_heading level0 col8\" >calculated_host_listings_count</th>        <th class=\"col_heading level0 col9\" >availability_365</th>    </tr></thead><tbody>\n",
              "                <tr>\n",
              "                        <th id=\"T_0d6f0846_9521_11eb_b771_0242ac1c0002level0_row0\" class=\"row_heading level0 row0\" >id</th>\n",
              "                        <td id=\"T_0d6f0846_9521_11eb_b771_0242ac1c0002row0_col0\" class=\"data row0 col0\" >1.000000</td>\n",
              "                        <td id=\"T_0d6f0846_9521_11eb_b771_0242ac1c0002row0_col1\" class=\"data row0 col1\" >0.588408</td>\n",
              "                        <td id=\"T_0d6f0846_9521_11eb_b771_0242ac1c0002row0_col2\" class=\"data row0 col2\" >-0.019230</td>\n",
              "                        <td id=\"T_0d6f0846_9521_11eb_b771_0242ac1c0002row0_col3\" class=\"data row0 col3\" >0.011176</td>\n",
              "                        <td id=\"T_0d6f0846_9521_11eb_b771_0242ac1c0002row0_col4\" class=\"data row0 col4\" >-0.188245</td>\n",
              "                        <td id=\"T_0d6f0846_9521_11eb_b771_0242ac1c0002row0_col5\" class=\"data row0 col5\" >-0.107846</td>\n",
              "                        <td id=\"T_0d6f0846_9521_11eb_b771_0242ac1c0002row0_col6\" class=\"data row0 col6\" >-0.224269</td>\n",
              "                        <td id=\"T_0d6f0846_9521_11eb_b771_0242ac1c0002row0_col7\" class=\"data row0 col7\" >0.135171</td>\n",
              "                        <td id=\"T_0d6f0846_9521_11eb_b771_0242ac1c0002row0_col8\" class=\"data row0 col8\" >0.074351</td>\n",
              "                        <td id=\"T_0d6f0846_9521_11eb_b771_0242ac1c0002row0_col9\" class=\"data row0 col9\" >-0.014304</td>\n",
              "            </tr>\n",
              "            <tr>\n",
              "                        <th id=\"T_0d6f0846_9521_11eb_b771_0242ac1c0002level0_row1\" class=\"row_heading level0 row1\" >host_id</th>\n",
              "                        <td id=\"T_0d6f0846_9521_11eb_b771_0242ac1c0002row1_col0\" class=\"data row1 col0\" >0.588408</td>\n",
              "                        <td id=\"T_0d6f0846_9521_11eb_b771_0242ac1c0002row1_col1\" class=\"data row1 col1\" >1.000000</td>\n",
              "                        <td id=\"T_0d6f0846_9521_11eb_b771_0242ac1c0002row1_col2\" class=\"data row1 col2\" >0.022869</td>\n",
              "                        <td id=\"T_0d6f0846_9521_11eb_b771_0242ac1c0002row1_col3\" class=\"data row1 col3\" >-0.088198</td>\n",
              "                        <td id=\"T_0d6f0846_9521_11eb_b771_0242ac1c0002row1_col4\" class=\"data row1 col4\" >-0.128390</td>\n",
              "                        <td id=\"T_0d6f0846_9521_11eb_b771_0242ac1c0002row1_col5\" class=\"data row1 col5\" >-0.069400</td>\n",
              "                        <td id=\"T_0d6f0846_9521_11eb_b771_0242ac1c0002row1_col6\" class=\"data row1 col6\" >-0.142799</td>\n",
              "                        <td id=\"T_0d6f0846_9521_11eb_b771_0242ac1c0002row1_col7\" class=\"data row1 col7\" >0.080695</td>\n",
              "                        <td id=\"T_0d6f0846_9521_11eb_b771_0242ac1c0002row1_col8\" class=\"data row1 col8\" >-0.058623</td>\n",
              "                        <td id=\"T_0d6f0846_9521_11eb_b771_0242ac1c0002row1_col9\" class=\"data row1 col9\" >-0.011121</td>\n",
              "            </tr>\n",
              "            <tr>\n",
              "                        <th id=\"T_0d6f0846_9521_11eb_b771_0242ac1c0002level0_row2\" class=\"row_heading level0 row2\" >latitude</th>\n",
              "                        <td id=\"T_0d6f0846_9521_11eb_b771_0242ac1c0002row2_col0\" class=\"data row2 col0\" >-0.019230</td>\n",
              "                        <td id=\"T_0d6f0846_9521_11eb_b771_0242ac1c0002row2_col1\" class=\"data row2 col1\" >0.022869</td>\n",
              "                        <td id=\"T_0d6f0846_9521_11eb_b771_0242ac1c0002row2_col2\" class=\"data row2 col2\" >1.000000</td>\n",
              "                        <td id=\"T_0d6f0846_9521_11eb_b771_0242ac1c0002row2_col3\" class=\"data row2 col3\" >0.353041</td>\n",
              "                        <td id=\"T_0d6f0846_9521_11eb_b771_0242ac1c0002row2_col4\" class=\"data row2 col4\" >-0.169860</td>\n",
              "                        <td id=\"T_0d6f0846_9521_11eb_b771_0242ac1c0002row2_col5\" class=\"data row2 col5\" >-0.059259</td>\n",
              "                        <td id=\"T_0d6f0846_9521_11eb_b771_0242ac1c0002row2_col6\" class=\"data row2 col6\" >-0.056605</td>\n",
              "                        <td id=\"T_0d6f0846_9521_11eb_b771_0242ac1c0002row2_col7\" class=\"data row2 col7\" >-0.039306</td>\n",
              "                        <td id=\"T_0d6f0846_9521_11eb_b771_0242ac1c0002row2_col8\" class=\"data row2 col8\" >-0.069113</td>\n",
              "                        <td id=\"T_0d6f0846_9521_11eb_b771_0242ac1c0002row2_col9\" class=\"data row2 col9\" >0.000124</td>\n",
              "            </tr>\n",
              "            <tr>\n",
              "                        <th id=\"T_0d6f0846_9521_11eb_b771_0242ac1c0002level0_row3\" class=\"row_heading level0 row3\" >longitude</th>\n",
              "                        <td id=\"T_0d6f0846_9521_11eb_b771_0242ac1c0002row3_col0\" class=\"data row3 col0\" >0.011176</td>\n",
              "                        <td id=\"T_0d6f0846_9521_11eb_b771_0242ac1c0002row3_col1\" class=\"data row3 col1\" >-0.088198</td>\n",
              "                        <td id=\"T_0d6f0846_9521_11eb_b771_0242ac1c0002row3_col2\" class=\"data row3 col2\" >0.353041</td>\n",
              "                        <td id=\"T_0d6f0846_9521_11eb_b771_0242ac1c0002row3_col3\" class=\"data row3 col3\" >1.000000</td>\n",
              "                        <td id=\"T_0d6f0846_9521_11eb_b771_0242ac1c0002row3_col4\" class=\"data row3 col4\" >-0.139311</td>\n",
              "                        <td id=\"T_0d6f0846_9521_11eb_b771_0242ac1c0002row3_col5\" class=\"data row3 col5\" >-0.068870</td>\n",
              "                        <td id=\"T_0d6f0846_9521_11eb_b771_0242ac1c0002row3_col6\" class=\"data row3 col6\" >0.128151</td>\n",
              "                        <td id=\"T_0d6f0846_9521_11eb_b771_0242ac1c0002row3_col7\" class=\"data row3 col7\" >0.083866</td>\n",
              "                        <td id=\"T_0d6f0846_9521_11eb_b771_0242ac1c0002row3_col8\" class=\"data row3 col8\" >0.086791</td>\n",
              "                        <td id=\"T_0d6f0846_9521_11eb_b771_0242ac1c0002row3_col9\" class=\"data row3 col9\" >-0.027360</td>\n",
              "            </tr>\n",
              "            <tr>\n",
              "                        <th id=\"T_0d6f0846_9521_11eb_b771_0242ac1c0002level0_row4\" class=\"row_heading level0 row4\" >price</th>\n",
              "                        <td id=\"T_0d6f0846_9521_11eb_b771_0242ac1c0002row4_col0\" class=\"data row4 col0\" >-0.188245</td>\n",
              "                        <td id=\"T_0d6f0846_9521_11eb_b771_0242ac1c0002row4_col1\" class=\"data row4 col1\" >-0.128390</td>\n",
              "                        <td id=\"T_0d6f0846_9521_11eb_b771_0242ac1c0002row4_col2\" class=\"data row4 col2\" >-0.169860</td>\n",
              "                        <td id=\"T_0d6f0846_9521_11eb_b771_0242ac1c0002row4_col3\" class=\"data row4 col3\" >-0.139311</td>\n",
              "                        <td id=\"T_0d6f0846_9521_11eb_b771_0242ac1c0002row4_col4\" class=\"data row4 col4\" >1.000000</td>\n",
              "                        <td id=\"T_0d6f0846_9521_11eb_b771_0242ac1c0002row4_col5\" class=\"data row4 col5\" >0.178383</td>\n",
              "                        <td id=\"T_0d6f0846_9521_11eb_b771_0242ac1c0002row4_col6\" class=\"data row4 col6\" >-0.160525</td>\n",
              "                        <td id=\"T_0d6f0846_9521_11eb_b771_0242ac1c0002row4_col7\" class=\"data row4 col7\" >-0.160703</td>\n",
              "                        <td id=\"T_0d6f0846_9521_11eb_b771_0242ac1c0002row4_col8\" class=\"data row4 col8\" >0.024827</td>\n",
              "                        <td id=\"T_0d6f0846_9521_11eb_b771_0242ac1c0002row4_col9\" class=\"data row4 col9\" >-0.031440</td>\n",
              "            </tr>\n",
              "            <tr>\n",
              "                        <th id=\"T_0d6f0846_9521_11eb_b771_0242ac1c0002level0_row5\" class=\"row_heading level0 row5\" >minimum_nights</th>\n",
              "                        <td id=\"T_0d6f0846_9521_11eb_b771_0242ac1c0002row5_col0\" class=\"data row5 col0\" >-0.107846</td>\n",
              "                        <td id=\"T_0d6f0846_9521_11eb_b771_0242ac1c0002row5_col1\" class=\"data row5 col1\" >-0.069400</td>\n",
              "                        <td id=\"T_0d6f0846_9521_11eb_b771_0242ac1c0002row5_col2\" class=\"data row5 col2\" >-0.059259</td>\n",
              "                        <td id=\"T_0d6f0846_9521_11eb_b771_0242ac1c0002row5_col3\" class=\"data row5 col3\" >-0.068870</td>\n",
              "                        <td id=\"T_0d6f0846_9521_11eb_b771_0242ac1c0002row5_col4\" class=\"data row5 col4\" >0.178383</td>\n",
              "                        <td id=\"T_0d6f0846_9521_11eb_b771_0242ac1c0002row5_col5\" class=\"data row5 col5\" >1.000000</td>\n",
              "                        <td id=\"T_0d6f0846_9521_11eb_b771_0242ac1c0002row5_col6\" class=\"data row5 col6\" >-0.058371</td>\n",
              "                        <td id=\"T_0d6f0846_9521_11eb_b771_0242ac1c0002row5_col7\" class=\"data row5 col7\" >-0.059751</td>\n",
              "                        <td id=\"T_0d6f0846_9521_11eb_b771_0242ac1c0002row5_col8\" class=\"data row5 col8\" >-0.033931</td>\n",
              "                        <td id=\"T_0d6f0846_9521_11eb_b771_0242ac1c0002row5_col9\" class=\"data row5 col9\" >-0.027525</td>\n",
              "            </tr>\n",
              "            <tr>\n",
              "                        <th id=\"T_0d6f0846_9521_11eb_b771_0242ac1c0002level0_row6\" class=\"row_heading level0 row6\" >number_of_reviews</th>\n",
              "                        <td id=\"T_0d6f0846_9521_11eb_b771_0242ac1c0002row6_col0\" class=\"data row6 col0\" >-0.224269</td>\n",
              "                        <td id=\"T_0d6f0846_9521_11eb_b771_0242ac1c0002row6_col1\" class=\"data row6 col1\" >-0.142799</td>\n",
              "                        <td id=\"T_0d6f0846_9521_11eb_b771_0242ac1c0002row6_col2\" class=\"data row6 col2\" >-0.056605</td>\n",
              "                        <td id=\"T_0d6f0846_9521_11eb_b771_0242ac1c0002row6_col3\" class=\"data row6 col3\" >0.128151</td>\n",
              "                        <td id=\"T_0d6f0846_9521_11eb_b771_0242ac1c0002row6_col4\" class=\"data row6 col4\" >-0.160525</td>\n",
              "                        <td id=\"T_0d6f0846_9521_11eb_b771_0242ac1c0002row6_col5\" class=\"data row6 col5\" >-0.058371</td>\n",
              "                        <td id=\"T_0d6f0846_9521_11eb_b771_0242ac1c0002row6_col6\" class=\"data row6 col6\" >1.000000</td>\n",
              "                        <td id=\"T_0d6f0846_9521_11eb_b771_0242ac1c0002row6_col7\" class=\"data row6 col7\" >0.705183</td>\n",
              "                        <td id=\"T_0d6f0846_9521_11eb_b771_0242ac1c0002row6_col8\" class=\"data row6 col8\" >-0.022870</td>\n",
              "                        <td id=\"T_0d6f0846_9521_11eb_b771_0242ac1c0002row6_col9\" class=\"data row6 col9\" >0.049898</td>\n",
              "            </tr>\n",
              "            <tr>\n",
              "                        <th id=\"T_0d6f0846_9521_11eb_b771_0242ac1c0002level0_row7\" class=\"row_heading level0 row7\" >reviews_per_month</th>\n",
              "                        <td id=\"T_0d6f0846_9521_11eb_b771_0242ac1c0002row7_col0\" class=\"data row7 col0\" >0.135171</td>\n",
              "                        <td id=\"T_0d6f0846_9521_11eb_b771_0242ac1c0002row7_col1\" class=\"data row7 col1\" >0.080695</td>\n",
              "                        <td id=\"T_0d6f0846_9521_11eb_b771_0242ac1c0002row7_col2\" class=\"data row7 col2\" >-0.039306</td>\n",
              "                        <td id=\"T_0d6f0846_9521_11eb_b771_0242ac1c0002row7_col3\" class=\"data row7 col3\" >0.083866</td>\n",
              "                        <td id=\"T_0d6f0846_9521_11eb_b771_0242ac1c0002row7_col4\" class=\"data row7 col4\" >-0.160703</td>\n",
              "                        <td id=\"T_0d6f0846_9521_11eb_b771_0242ac1c0002row7_col5\" class=\"data row7 col5\" >-0.059751</td>\n",
              "                        <td id=\"T_0d6f0846_9521_11eb_b771_0242ac1c0002row7_col6\" class=\"data row7 col6\" >0.705183</td>\n",
              "                        <td id=\"T_0d6f0846_9521_11eb_b771_0242ac1c0002row7_col7\" class=\"data row7 col7\" >1.000000</td>\n",
              "                        <td id=\"T_0d6f0846_9521_11eb_b771_0242ac1c0002row7_col8\" class=\"data row7 col8\" >-0.017978</td>\n",
              "                        <td id=\"T_0d6f0846_9521_11eb_b771_0242ac1c0002row7_col9\" class=\"data row7 col9\" >-0.022216</td>\n",
              "            </tr>\n",
              "            <tr>\n",
              "                        <th id=\"T_0d6f0846_9521_11eb_b771_0242ac1c0002level0_row8\" class=\"row_heading level0 row8\" >calculated_host_listings_count</th>\n",
              "                        <td id=\"T_0d6f0846_9521_11eb_b771_0242ac1c0002row8_col0\" class=\"data row8 col0\" >0.074351</td>\n",
              "                        <td id=\"T_0d6f0846_9521_11eb_b771_0242ac1c0002row8_col1\" class=\"data row8 col1\" >-0.058623</td>\n",
              "                        <td id=\"T_0d6f0846_9521_11eb_b771_0242ac1c0002row8_col2\" class=\"data row8 col2\" >-0.069113</td>\n",
              "                        <td id=\"T_0d6f0846_9521_11eb_b771_0242ac1c0002row8_col3\" class=\"data row8 col3\" >0.086791</td>\n",
              "                        <td id=\"T_0d6f0846_9521_11eb_b771_0242ac1c0002row8_col4\" class=\"data row8 col4\" >0.024827</td>\n",
              "                        <td id=\"T_0d6f0846_9521_11eb_b771_0242ac1c0002row8_col5\" class=\"data row8 col5\" >-0.033931</td>\n",
              "                        <td id=\"T_0d6f0846_9521_11eb_b771_0242ac1c0002row8_col6\" class=\"data row8 col6\" >-0.022870</td>\n",
              "                        <td id=\"T_0d6f0846_9521_11eb_b771_0242ac1c0002row8_col7\" class=\"data row8 col7\" >-0.017978</td>\n",
              "                        <td id=\"T_0d6f0846_9521_11eb_b771_0242ac1c0002row8_col8\" class=\"data row8 col8\" >1.000000</td>\n",
              "                        <td id=\"T_0d6f0846_9521_11eb_b771_0242ac1c0002row8_col9\" class=\"data row8 col9\" >0.076126</td>\n",
              "            </tr>\n",
              "            <tr>\n",
              "                        <th id=\"T_0d6f0846_9521_11eb_b771_0242ac1c0002level0_row9\" class=\"row_heading level0 row9\" >availability_365</th>\n",
              "                        <td id=\"T_0d6f0846_9521_11eb_b771_0242ac1c0002row9_col0\" class=\"data row9 col0\" >-0.014304</td>\n",
              "                        <td id=\"T_0d6f0846_9521_11eb_b771_0242ac1c0002row9_col1\" class=\"data row9 col1\" >-0.011121</td>\n",
              "                        <td id=\"T_0d6f0846_9521_11eb_b771_0242ac1c0002row9_col2\" class=\"data row9 col2\" >0.000124</td>\n",
              "                        <td id=\"T_0d6f0846_9521_11eb_b771_0242ac1c0002row9_col3\" class=\"data row9 col3\" >-0.027360</td>\n",
              "                        <td id=\"T_0d6f0846_9521_11eb_b771_0242ac1c0002row9_col4\" class=\"data row9 col4\" >-0.031440</td>\n",
              "                        <td id=\"T_0d6f0846_9521_11eb_b771_0242ac1c0002row9_col5\" class=\"data row9 col5\" >-0.027525</td>\n",
              "                        <td id=\"T_0d6f0846_9521_11eb_b771_0242ac1c0002row9_col6\" class=\"data row9 col6\" >0.049898</td>\n",
              "                        <td id=\"T_0d6f0846_9521_11eb_b771_0242ac1c0002row9_col7\" class=\"data row9 col7\" >-0.022216</td>\n",
              "                        <td id=\"T_0d6f0846_9521_11eb_b771_0242ac1c0002row9_col8\" class=\"data row9 col8\" >0.076126</td>\n",
              "                        <td id=\"T_0d6f0846_9521_11eb_b771_0242ac1c0002row9_col9\" class=\"data row9 col9\" >1.000000</td>\n",
              "            </tr>\n",
              "    </tbody></table>"
            ],
            "text/plain": [
              "<pandas.io.formats.style.Styler at 0x7f9adf8bfd90>"
            ]
          },
          "metadata": {
            "tags": []
          },
          "execution_count": 15
        }
      ]
    },
    {
      "cell_type": "markdown",
      "metadata": {
        "id": "IR4roXZNyMlu"
      },
      "source": [
        "A partir desse heatmap não obtivemos relações fortes entre variáveis ao nível de estabelecer alguma relação direta ou inversa entre as variáveis. As variáveis que obtiveram a maior relação entre si foram id e host_id com aproximadamente 60%, mas essas variáveis não nos permitem fazer nenhuma inferencia com relação as localidades e os preços. Outras variáveis que se relacionam entre si fortemente são o numero de reviews e o numero de reviews por mês, algo já esperado e que não acrescenta insights na nossa análise"
      ]
    },
    {
      "cell_type": "markdown",
      "metadata": {
        "id": "7b6RMWpuHKN-"
      },
      "source": [
        "### **Q5. Qual o tipo de imóvel mais alugado no Airbnb?**"
      ]
    },
    {
      "cell_type": "markdown",
      "metadata": {
        "id": "4mzZzWJVzAv2"
      },
      "source": [
        "Para considerar os imóveis mais alugados retiramos os imóveis que não estão disponíveis ao longo do ano, considerando o novo dataset as linhas onde availability_365 é maior que 0"
      ]
    },
    {
      "cell_type": "code",
      "metadata": {
        "id": "n8cb_Loru57Y"
      },
      "source": [
        "# imoveis disponiveis sao os que se encontram disponiveis pelo menos um ia no ano\n",
        "df_disp=df_clean.where(df['availability_365']>0)"
      ],
      "execution_count": 16,
      "outputs": []
    },
    {
      "cell_type": "code",
      "metadata": {
        "colab": {
          "base_uri": "https://localhost:8080/"
        },
        "id": "ueLPNWvPHgfB",
        "outputId": "2fbe283f-405b-4475-9fed-82c51a4725c3"
      },
      "source": [
        "# mostrar a quantidade de cada tipo de imóvel disponível\n",
        "contagem=df_disp.value_counts('room_type')\n",
        "print(contagem)"
      ],
      "execution_count": 17,
      "outputs": [
        {
          "output_type": "stream",
          "text": [
            "room_type\n",
            "Entire home/apt    16855\n",
            "Private room        6389\n",
            "Shared room          603\n",
            "Hotel room           124\n",
            "dtype: int64\n"
          ],
          "name": "stdout"
        }
      ]
    },
    {
      "cell_type": "code",
      "metadata": {
        "colab": {
          "base_uri": "https://localhost:8080/"
        },
        "id": "EvwoO-XAHhIm",
        "outputId": "f5ea7c57-214d-4a6d-f062-4c6bee7bb222"
      },
      "source": [
        "# mostrar a porcentagem de cada tipo de imóvel disponível\n",
        "(contagem/df_disp.shape[0])*100\n",
        "\n"
      ],
      "execution_count": 18,
      "outputs": [
        {
          "output_type": "execute_result",
          "data": {
            "text/plain": [
              "room_type\n",
              "Entire home/apt    49.348558\n",
              "Private room       18.705900\n",
              "Shared room         1.765481\n",
              "Hotel room          0.363051\n",
              "dtype: float64"
            ]
          },
          "metadata": {
            "tags": []
          },
          "execution_count": 18
        }
      ]
    },
    {
      "cell_type": "markdown",
      "metadata": {
        "id": "MFa5NbnLJMcd"
      },
      "source": [
        "### **Q6. Qual a localidade mais cara do dataset?**\n",
        "\n"
      ]
    },
    {
      "cell_type": "code",
      "metadata": {
        "colab": {
          "base_uri": "https://localhost:8080/"
        },
        "id": "MD_xa143JZpi",
        "outputId": "c6239503-cfd2-4233-96ee-c30136a4a5ed"
      },
      "source": [
        "# ver preços por bairros, na média\n",
        "df_disp.groupby(['neighbourhood']).price.mean().sort_values(ascending=False)"
      ],
      "execution_count": 19,
      "outputs": [
        {
          "output_type": "execute_result",
          "data": {
            "text/plain": [
              "neighbourhood\n",
              "Caju                      1199.000000\n",
              "Benfica                   1131.333333\n",
              "Joá                        936.369565\n",
              "Ricardo de Albuquerque     899.800000\n",
              "Vaz Lobo                   826.000000\n",
              "                             ...     \n",
              "Colégio                     70.000000\n",
              "Vila Militar                70.000000\n",
              "Vista Alegre                70.000000\n",
              "Honório Gurgel              65.000000\n",
              "Gericinó                    49.000000\n",
              "Name: price, Length: 153, dtype: float64"
            ]
          },
          "metadata": {
            "tags": []
          },
          "execution_count": 19
        }
      ]
    },
    {
      "cell_type": "code",
      "metadata": {
        "colab": {
          "base_uri": "https://localhost:8080/"
        },
        "id": "6__9QBp2Lmul",
        "outputId": "4eab3074-6d96-4805-f975-e2f2e038e455"
      },
      "source": [
        "# Realizando uma pesquisa constatei que imóveis em bairros como Leblon, Ipanema e Lagoa são bairros mais caros do que os que apareceram no topo dessa lista, coletando dados:\n",
        "print(df_disp[df_disp.neighbourhood=='Caju'].shape)\n",
        "print(df_disp[df_disp.neighbourhood=='Benfica'].shape)\n",
        "print(df_disp[df_disp.neighbourhood=='Joá'].shape)\n"
      ],
      "execution_count": 20,
      "outputs": [
        {
          "output_type": "stream",
          "text": [
            "(1, 15)\n",
            "(6, 15)\n",
            "(46, 15)\n"
          ],
          "name": "stdout"
        }
      ]
    },
    {
      "cell_type": "code",
      "metadata": {
        "colab": {
          "base_uri": "https://localhost:8080/",
          "height": 493
        },
        "id": "UxVJqJ_3W59I",
        "outputId": "02ed051c-a452-4581-ec1b-137c084d9f34"
      },
      "source": [
        "# plotar os imóveis pela latitude-longitude\n",
        "df_disp.plot(kind='scatter',x='longitude',y='latitude',c=df_disp['price'],s=8,cmap=plt.get_cmap('jet'),alpha=0.4,figsize=(12,8))"
      ],
      "execution_count": 21,
      "outputs": [
        {
          "output_type": "execute_result",
          "data": {
            "text/plain": [
              "<matplotlib.axes._subplots.AxesSubplot at 0x7f9adf7e7790>"
            ]
          },
          "metadata": {
            "tags": []
          },
          "execution_count": 21
        },
        {
          "output_type": "display_data",
          "data": {
            "image/png": "[encoded data removed]",
            "text/plain": [
              "<Figure size 864x576 with 2 Axes>"
            ]
          },
          "metadata": {
            "tags": [],
            "needs_background": "light"
          }
        }
      ]
    },
    {
      "cell_type": "markdown",
      "metadata": {
        "id": "vTneAMRUYvr1"
      },
      "source": [
        "### **Q7. Qual é a média do mínimo de noites para aluguel (minimum_nights)?**"
      ]
    },
    {
      "cell_type": "code",
      "metadata": {
        "colab": {
          "base_uri": "https://localhost:8080/"
        },
        "id": "_VzNhrEgY82N",
        "outputId": "e078df74-4868-4eac-c2b9-563741d2735d"
      },
      "source": [
        "# ver a média da coluna `minimum_nights``\n",
        "print(\"A média do número mínimo de noites é:\",df_disp.minimum_nights.mean())"
      ],
      "execution_count": 22,
      "outputs": [
        {
          "output_type": "stream",
          "text": [
            "A média do número mínimo de noites é: 3.5348128989195278\n"
          ],
          "name": "stdout"
        }
      ]
    },
    {
      "cell_type": "markdown",
      "metadata": {
        "id": "GkvAg623RjoR"
      },
      "source": [
        "## Conclusões\n"
      ]
    },
    {
      "cell_type": "markdown",
      "metadata": {
        "id": "rbZ3Hsy9Ypw8"
      },
      "source": [
        " "
      ]
    }
  ]
}